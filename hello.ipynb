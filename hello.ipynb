{
 "cells": [
  {
   "cell_type": "code",
   "execution_count": 175,
   "metadata": {},
   "outputs": [],
   "source": [
    "from flask import Flask,request\n",
    "import mysql.connector\n",
    "from flask_socketio import SocketIO,send,emit\n",
    "from uuid import uuid4\n",
    "import subprocess\n",
    "import base64\n",
    "from flask import send_file\n",
    "import wave\n",
    "import numpy as np\n",
    "from sklearn.decomposition import FastICA,PCA, TruncatedSVD, KernelPCA\n",
    "from sklearn.pipeline import Pipeline\n",
    "import tensorflow as tf\n",
    "from keras import Model, Sequential\n",
    "from keras.layers import Input, LSTM, Dense, RepeatVector, TimeDistributed"
   ]
  },
  {
   "cell_type": "code",
   "execution_count": 182,
   "metadata": {},
   "outputs": [
    {
     "name": "stdout",
     "output_type": "stream",
     "text": [
      "cluster:  0\n",
      "[2 2]\n",
      "cluster:  1\n",
      "[0 0 0]\n",
      "cluster:  2\n",
      "[2 3 2 2]\n",
      "cluster:  3\n",
      "[1]\n",
      "cluster:  4\n",
      "[3 1 1 5]\n"
     ]
    }
   ],
   "source": [
    "from scipy.io import wavfile as wav\n",
    "from scipy.fftpack import fft\n",
    "import librosa\n",
    "from IPython.display import Audio\n",
    "from sklearn.preprocessing import StandardScaler\n",
    "from sklearn.cluster import KMeans\n",
    "import os\n",
    "import warnings\n",
    "from sklearn.covariance import MinCovDet\n",
    "warnings.filterwarnings(\"ignore\")\n",
    "f = {0: [\"0.wav\", \"1.wav\", \"2.wav\"], 1 : [\"3.wav\", \"4.wav\", \"5.wav\"], 2 :[\"7.wav\",\"8.wav\", \"9.wav\", \"10.wav\", \"11.wav\"],\n",
    "    3: [\"12.wav\", \"13.wav\"], 5 : [\"6.wav\"]}\n",
    "d = {0 : [\"Rain Check\", \"https://www.youtube.com/watch?v=cYBCrCGw2b0\"] , \n",
    "        1 : [\"Kreepa Oh No\", \"https://www.youtube.com/watch?v=cYBCrCGw2b0\"] , \n",
    "        3 : [\"The Astronaut\" , \"https://www.youtube.com/watch?v=c6ASQOwKkhk\"] , 2 : \n",
    "         [\"Blinding Lights\", \"https://www.youtube.com/watch?v=4NRXx6U8ABQ\"],\n",
    "         5: [\"Random Short\", \"np\"]}\n",
    "x = []\n",
    "labels=[]\n",
    "for i in os.listdir(\"tests\"):\n",
    "    if(i.endswith(\".wav\")):\n",
    "        data, rate = librosa.load(f\"tests/{i}\")\n",
    "        ms = librosa.feature.melspectrogram(data, rate)\n",
    "        a = TruncatedSVD(7)\n",
    "        sig = a.fit_transform(ms)\n",
    "        x.append(sig.flatten())\n",
    "        labels.append([j for j in f if i in f[j]][0])\n",
    "labels = np.array(labels)\n",
    "k = KMeans(init ='k-means++', n_clusters= len(d))\n",
    "k.fit(x)\n",
    "pred_classes = k.predict(x)\n",
    "for cluster in range(len(d)):\n",
    "    print('cluster: ', cluster)\n",
    "    print(labels[np.where(pred_classes == cluster)])"
   ]
  },
  {
   "cell_type": "code",
   "execution_count": 251,
   "metadata": {},
   "outputs": [
    {
     "name": "stdout",
     "output_type": "stream",
     "text": [
      "(16, 896)\n",
      "(1, 896)\n"
     ]
    },
    {
     "data": {
      "text/plain": [
       "(ModeResult(mode=array([6]), count=array([1])), -6.065597562441371e-06)"
      ]
     },
     "execution_count": 251,
     "metadata": {},
     "output_type": "execute_result"
    }
   ],
   "source": [
    "import scipy\n",
    "librosa\n",
    "f = {0: [\"0.wav\", \"1.wav\", \"2.wav\"], 1 : [\"3.wav\", \"4.wav\", \"5.wav\"], 2 :[\"9.wav\",\"10.wav\", \"11.wav\", \"12.wav\", \"13.wav\"],\n",
    "    3: [\"14.wav\", \"15.wav\"], 5 : [\"6.wav\"], 6: [\"7.wav\", \"8.wav\"]}\n",
    "d = {0 : [\"Rain Check\", \"https://www.youtube.com/watch?v=cYBCrCGw2b0\"] , \n",
    "        1 : [\"Kreepa Oh No\", \"https://www.youtube.com/watch?v=cYBCrCGw2b0\"] , \n",
    "        3 : [\"The Astronaut\" , \"https://www.youtube.com/watch?v=c6ASQOwKkhk\"] , 2 : \n",
    "        [\"Blinding Lights\", \"https://www.youtube.com/watch?v=4NRXx6U8ABQ\"],\n",
    "        5: [\"Random Short\", \"np\"], 6: [\"Without Me\" , \"https://www.youtube.com/watch?v=tqxRidAWER8&ab_channel=Eminem-Topic\"]}\n",
    "x = []\n",
    "labels=[]\n",
    "for i in os.listdir(\"tests\"):\n",
    "    if(i.endswith(\".wav\")):\n",
    "        data, rate = librosa.load(f\"tests/{i}\")\n",
    "        ms = librosa.feature.melspectrogram(data, rate)\n",
    "        a = TruncatedSVD(7)\n",
    "        sig = a.fit_transform(ms)\n",
    "        x.append(sig.flatten())\n",
    "        labels.append([j for j in f if i in f[j]][0])\n",
    "labels = np.array(labels)\n",
    "k = KMeans(init ='k-means++', n_clusters= len(d))\n",
    "k.fit(x)\n",
    "c,rate = librosa.load(\"tests/7.wav\")\n",
    "\n",
    "ms = librosa.feature.melspectrogram(c)\n",
    "\n",
    "a = TruncatedSVD(7)\n",
    "sig = a.fit_transform(ms)\n",
    "x= np.array(x).astype('float64')\n",
    "print(x.shape)\n",
    "pred_classes = k.predict(x)\n",
    "print(sig.flatten().reshape(1,-1).shape)\n",
    "p = k.predict(sig.flatten().reshape(1,-1).astype('float64'))\n",
    "\n",
    "scipy.stats.mode(labels[np.where(pred_classes == p)]), 1-k.score(sig.flatten().reshape(1,-1).astype('float64'))"
   ]
  },
  {
   "cell_type": "code",
   "execution_count": 248,
   "metadata": {},
   "outputs": [
    {
     "name": "stdout",
     "output_type": "stream",
     "text": [
      "(128, 486) (128, 486)\n"
     ]
    }
   ],
   "source": [
    "data, rate = librosa.load(\"tests/7.wav\")\n",
    "data2, rate2 = librosa.load(\"tests/8.wav\")\n",
    "ms1 = librosa.feature.melspectrogram(data, rate)\n",
    "ms2 = librosa.feature.melspectrogram(data2, rate2)\n",
    "\n",
    "\n",
    "print(ms1.shape, ms2[0:,0:486].shape)\n",
    "\n",
    "S_filter = librosa.decompose.nn_filter(np.minimum(ms1,ms2[0:,0:486]),\n",
    "                                       aggregate=np.median,\n",
    "                                       \n",
    "                                       width=int(librosa.time_to_frames(1, sr=rate)))\n",
    "# S_filter = np.minimum(S_filter, ms2)\n",
    "ms1 = librosa.util.softmask(ms1, np.abs(ms1 - ms2[0:,0:486])/4, power=3)\n",
    "a = librosa.feature.inverse.mel_to_audio(ms1/2)\n",
    "\n",
    "wav.write(\"sig1.wav\", rate, a)"
   ]
  },
  {
   "cell_type": "code",
   "execution_count": 125,
   "metadata": {},
   "outputs": [
    {
     "name": "stdout",
     "output_type": "stream",
     "text": [
      "(1290240,)\n"
     ]
    },
    {
     "ename": "ValueError",
     "evalue": "Input 0 of layer \"lstm_1\" is incompatible with the layer: expected ndim=3, found ndim=1. Full shape received: (None,)",
     "output_type": "error",
     "traceback": [
      "\u001b[1;31m---------------------------------------------------------------------------\u001b[0m",
      "\u001b[1;31mValueError\u001b[0m                                Traceback (most recent call last)",
      "Cell \u001b[1;32mIn [125], line 3\u001b[0m\n\u001b[0;32m      1\u001b[0m \u001b[39mprint\u001b[39m(n\u001b[39m.\u001b[39mshape)\n\u001b[0;32m      2\u001b[0m inputs \u001b[39m=\u001b[39m Input(shape\u001b[39m=\u001b[39m())\n\u001b[1;32m----> 3\u001b[0m encoded \u001b[39m=\u001b[39m LSTM(\u001b[39m100\u001b[39;49m)(inputs)\n\u001b[0;32m      4\u001b[0m decoded \u001b[39m=\u001b[39m RepeatVector()(encoded)\n\u001b[0;32m      5\u001b[0m decoded \u001b[39m=\u001b[39m LSTM(\u001b[39m2\u001b[39m, return_sequences\u001b[39m=\u001b[39m\u001b[39mTrue\u001b[39;00m)(decoded)\n",
      "File \u001b[1;32mc:\\Users\\aiden\\OneDrive\\Desktop\\Cheesehacks\\env\\lib\\site-packages\\keras\\layers\\rnn\\base_rnn.py:553\u001b[0m, in \u001b[0;36mRNN.__call__\u001b[1;34m(self, inputs, initial_state, constants, **kwargs)\u001b[0m\n\u001b[0;32m    548\u001b[0m inputs, initial_state, constants \u001b[39m=\u001b[39m rnn_utils\u001b[39m.\u001b[39mstandardize_args(\n\u001b[0;32m    549\u001b[0m     inputs, initial_state, constants, \u001b[39mself\u001b[39m\u001b[39m.\u001b[39m_num_constants\n\u001b[0;32m    550\u001b[0m )\n\u001b[0;32m    552\u001b[0m \u001b[39mif\u001b[39;00m initial_state \u001b[39mis\u001b[39;00m \u001b[39mNone\u001b[39;00m \u001b[39mand\u001b[39;00m constants \u001b[39mis\u001b[39;00m \u001b[39mNone\u001b[39;00m:\n\u001b[1;32m--> 553\u001b[0m     \u001b[39mreturn\u001b[39;00m \u001b[39msuper\u001b[39m()\u001b[39m.\u001b[39m\u001b[39m__call__\u001b[39m(inputs, \u001b[39m*\u001b[39m\u001b[39m*\u001b[39mkwargs)\n\u001b[0;32m    555\u001b[0m \u001b[39m# If any of `initial_state` or `constants` are specified and are Keras\u001b[39;00m\n\u001b[0;32m    556\u001b[0m \u001b[39m# tensors, then add them to the inputs and temporarily modify the\u001b[39;00m\n\u001b[0;32m    557\u001b[0m \u001b[39m# input_spec to include them.\u001b[39;00m\n\u001b[0;32m    559\u001b[0m additional_inputs \u001b[39m=\u001b[39m []\n",
      "File \u001b[1;32mc:\\Users\\aiden\\OneDrive\\Desktop\\Cheesehacks\\env\\lib\\site-packages\\keras\\utils\\traceback_utils.py:70\u001b[0m, in \u001b[0;36mfilter_traceback.<locals>.error_handler\u001b[1;34m(*args, **kwargs)\u001b[0m\n\u001b[0;32m     67\u001b[0m     filtered_tb \u001b[39m=\u001b[39m _process_traceback_frames(e\u001b[39m.\u001b[39m__traceback__)\n\u001b[0;32m     68\u001b[0m     \u001b[39m# To get the full stack trace, call:\u001b[39;00m\n\u001b[0;32m     69\u001b[0m     \u001b[39m# `tf.debugging.disable_traceback_filtering()`\u001b[39;00m\n\u001b[1;32m---> 70\u001b[0m     \u001b[39mraise\u001b[39;00m e\u001b[39m.\u001b[39mwith_traceback(filtered_tb) \u001b[39mfrom\u001b[39;00m \u001b[39mNone\u001b[39m\n\u001b[0;32m     71\u001b[0m \u001b[39mfinally\u001b[39;00m:\n\u001b[0;32m     72\u001b[0m     \u001b[39mdel\u001b[39;00m filtered_tb\n",
      "File \u001b[1;32mc:\\Users\\aiden\\OneDrive\\Desktop\\Cheesehacks\\env\\lib\\site-packages\\keras\\engine\\input_spec.py:232\u001b[0m, in \u001b[0;36massert_input_compatibility\u001b[1;34m(input_spec, inputs, layer_name)\u001b[0m\n\u001b[0;32m    230\u001b[0m     ndim \u001b[39m=\u001b[39m shape\u001b[39m.\u001b[39mrank\n\u001b[0;32m    231\u001b[0m     \u001b[39mif\u001b[39;00m ndim \u001b[39m!=\u001b[39m spec\u001b[39m.\u001b[39mndim:\n\u001b[1;32m--> 232\u001b[0m         \u001b[39mraise\u001b[39;00m \u001b[39mValueError\u001b[39;00m(\n\u001b[0;32m    233\u001b[0m             \u001b[39mf\u001b[39m\u001b[39m'\u001b[39m\u001b[39mInput \u001b[39m\u001b[39m{\u001b[39;00minput_index\u001b[39m}\u001b[39;00m\u001b[39m of layer \u001b[39m\u001b[39m\"\u001b[39m\u001b[39m{\u001b[39;00mlayer_name\u001b[39m}\u001b[39;00m\u001b[39m\"\u001b[39m\u001b[39m \u001b[39m\u001b[39m'\u001b[39m\n\u001b[0;32m    234\u001b[0m             \u001b[39m\"\u001b[39m\u001b[39mis incompatible with the layer: \u001b[39m\u001b[39m\"\u001b[39m\n\u001b[0;32m    235\u001b[0m             \u001b[39mf\u001b[39m\u001b[39m\"\u001b[39m\u001b[39mexpected ndim=\u001b[39m\u001b[39m{\u001b[39;00mspec\u001b[39m.\u001b[39mndim\u001b[39m}\u001b[39;00m\u001b[39m, found ndim=\u001b[39m\u001b[39m{\u001b[39;00mndim\u001b[39m}\u001b[39;00m\u001b[39m. \u001b[39m\u001b[39m\"\u001b[39m\n\u001b[0;32m    236\u001b[0m             \u001b[39mf\u001b[39m\u001b[39m\"\u001b[39m\u001b[39mFull shape received: \u001b[39m\u001b[39m{\u001b[39;00m\u001b[39mtuple\u001b[39m(shape)\u001b[39m}\u001b[39;00m\u001b[39m\"\u001b[39m\n\u001b[0;32m    237\u001b[0m         )\n\u001b[0;32m    238\u001b[0m \u001b[39mif\u001b[39;00m spec\u001b[39m.\u001b[39mmax_ndim \u001b[39mis\u001b[39;00m \u001b[39mnot\u001b[39;00m \u001b[39mNone\u001b[39;00m:\n\u001b[0;32m    239\u001b[0m     ndim \u001b[39m=\u001b[39m x\u001b[39m.\u001b[39mshape\u001b[39m.\u001b[39mrank\n",
      "\u001b[1;31mValueError\u001b[0m: Input 0 of layer \"lstm_1\" is incompatible with the layer: expected ndim=3, found ndim=1. Full shape received: (None,)"
     ]
    }
   ],
   "source": [
    "print(n.shape)\n",
    "inputs = Input(shape=())\n",
    "encoded = LSTM(100)(inputs)\n",
    "decoded = RepeatVector()(encoded)\n",
    "decoded = LSTM(2, return_sequences=True)(decoded)\n",
    "model = Model(inputs,decoded)\n",
    "\n",
    "\n",
    "model.add(TimeDistributed(LSTM(100, activation='relu')))\n",
    "model.add(RepeatVector(10))\n",
    "model.add(LSTM(100, activation='relu', return_sequences=True))\n",
    "model.add(TimeDistributed(Dense(1)))\n",
    "model.compile(optimizer='adam', loss='mse')\n",
    "model.fit()"
   ]
  }
 ],
 "metadata": {
  "kernelspec": {
   "display_name": "Python 3.9.6 ('env': venv)",
   "language": "python",
   "name": "python3"
  },
  "language_info": {
   "codemirror_mode": {
    "name": "ipython",
    "version": 3
   },
   "file_extension": ".py",
   "mimetype": "text/x-python",
   "name": "python",
   "nbconvert_exporter": "python",
   "pygments_lexer": "ipython3",
   "version": "3.9.6"
  },
  "orig_nbformat": 4,
  "vscode": {
   "interpreter": {
    "hash": "2c9a92538de4c4d272134cdcb5f540670acbb46821d086b79e8a89764bd3abc5"
   }
  }
 },
 "nbformat": 4,
 "nbformat_minor": 2
}
